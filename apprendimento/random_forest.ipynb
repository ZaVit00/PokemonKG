{
 "cells": [
  {
   "metadata": {},
   "cell_type": "markdown",
   "source": [
    "## Random Forest: Valutazione dell'Iperparametro `n_estimators`\n",
    "\n",
    "In questa sezione analizziamo il comportamento del classificatore **Random Forest**, focalizzandoci sull'effetto dell'iperparametro `n_estimators`, che rappresenta il **numero di alberi nella foresta**.\n",
    "\n",
    "Per ciascun valore di `n_estimators`:\n",
    "- Applichiamo una **10-fold cross-validation**.\n",
    "- Valutiamo le metriche: `accuracy`, `precision (macro)`, `recall (macro)` e `f1-score (macro)`.\n",
    "- Tracciamo l'**errore medio (1 - metrica)** al variare di `n_estimators`, con intervalli di deviazione standard.\n",
    "\n",
    "L'obiettivo è:\n",
    "- **Scegliere il numero ottimale di alberi** in base al `f1-score macro`.\n",
    "- Osservare la **stabilità del modello** al variare della complessità.\n"
   ],
   "id": "a73804552d28d33e"
  },
  {
   "metadata": {
    "ExecuteTime": {
     "end_time": "2025-09-10T11:53:57.947036Z",
     "start_time": "2025-09-10T11:53:57.942904Z"
    }
   },
   "cell_type": "code",
   "source": [
    "from sklearn.ensemble import RandomForestClassifier\n",
    "from sklearn.model_selection import StratifiedKFold, cross_validate\n",
    "from sklearn.metrics import make_scorer, precision_score, recall_score, f1_score, ConfusionMatrixDisplay\n",
    "import pandas as pd\n",
    "import matplotlib.pyplot as plt\n",
    "import numpy as np\n",
    "from sklearn.metrics import accuracy_score"
   ],
   "id": "e33d01d6c63370c3",
   "outputs": [],
   "execution_count": 2
  },
  {
   "metadata": {
    "ExecuteTime": {
     "end_time": "2025-09-10T11:53:58.006228Z",
     "start_time": "2025-09-10T11:53:57.967676Z"
    }
   },
   "cell_type": "code",
   "source": [
    "TRAINING_PATH = \"risorse/training_bilanciato.csv\"\n",
    "TEST_PATH     = \"risorse/test_set.csv\"\n",
    "FEATURES = [\"OFF_FISICO\", \"OFF_SPECIALE\", \"TANK_FISICO\", \"TANK_SPECIALE\"]\n",
    "TARGET   = \"Archetipo\"\n",
    "\n",
    "df_train = pd.read_csv(TRAINING_PATH)\n",
    "df_test  = pd.read_csv(TEST_PATH)\n",
    "\n",
    "# Controllo colonne\n",
    "missing_train = [c for c in FEATURES + [TARGET] if c not in df_train.columns]\n",
    "missing_test  = [c for c in FEATURES + [TARGET] if c not in df_test.columns]\n",
    "if missing_train:\n",
    "    raise KeyError(f\"Mancano colonne nel TRAINING SET: {missing_train}\")\n",
    "if missing_test:\n",
    "    raise KeyError(f\"Mancano colonne nel TEST SET: {missing_test}\")\n",
    "\n",
    "# Selezione e copia\n",
    "df_train = df_train[FEATURES + [TARGET]].copy()\n",
    "df_test  = df_test[FEATURES + [TARGET]].copy()\n",
    "\n",
    "# Conversione a numerico\n",
    "for c in FEATURES:\n",
    "    df_train[c] = pd.to_numeric(df_train[c], errors=\"coerce\")\n",
    "    df_test[c]  = pd.to_numeric(df_test[c],  errors=\"coerce\")\n",
    "\n",
    "# Drop NaN (train e test)\n",
    "before = len(df_train)\n",
    "df_train = df_train.dropna(subset=FEATURES + [TARGET])\n",
    "after = len(df_train)\n",
    "if after < before:\n",
    "    print(f\"Attenzione: rimosse {before - after} righe (NaN) dal TRAINING.\")\n",
    "\n",
    "before_t = len(df_test)\n",
    "df_test  = df_test.dropna(subset=FEATURES + [TARGET])\n",
    "after_t  = len(df_test)\n",
    "if after_t < before_t:\n",
    "    print(f\"Attenzione: rimosse {before_t - after_t} righe (NaN) dal TEST.\")\n",
    "\n",
    "# Distribuzioni classi\n",
    "print(\"Distribuzione classi del TRAINING SET (y_train):\")\n",
    "x_train = df_train[FEATURES].values\n",
    "y_train = df_train[TARGET].values\n",
    "print(pd.Series(y_train).value_counts(normalize=True).round(2))\n",
    "print(pd.Series(y_train).value_counts())\n",
    "\n",
    "print(\"\\nDistribuzione classi del TEST SET (y_test):\")\n",
    "x_test = df_test[FEATURES].values\n",
    "y_test = df_test[TARGET].values\n",
    "print(pd.Series(y_test).value_counts(normalize=True).round(2))\n",
    "print(pd.Series(y_test).value_counts())"
   ],
   "id": "f0a45c09a58681e1",
   "outputs": [
    {
     "name": "stdout",
     "output_type": "stream",
     "text": [
      "Distribuzione classi del TRAINING SET (y_train):\n",
      "Balanced             0.25\n",
      "Attaccante           0.25\n",
      "Tank                 0.25\n",
      "Elite/Leggendario    0.25\n",
      "Name: proportion, dtype: float64\n",
      "Balanced             245\n",
      "Attaccante           245\n",
      "Tank                 245\n",
      "Elite/Leggendario    245\n",
      "Name: count, dtype: int64\n",
      "\n",
      "Distribuzione classi del TEST SET (y_test):\n",
      "Attaccante           0.36\n",
      "Balanced             0.31\n",
      "Tank                 0.22\n",
      "Elite/Leggendario    0.11\n",
      "Name: proportion, dtype: float64\n",
      "Attaccante           54\n",
      "Balanced             47\n",
      "Tank                 33\n",
      "Elite/Leggendario    17\n",
      "Name: count, dtype: int64\n"
     ]
    }
   ],
   "execution_count": 3
  },
  {
   "metadata": {
    "ExecuteTime": {
     "end_time": "2025-09-10T11:54:12.501026Z",
     "start_time": "2025-09-10T11:53:58.022840Z"
    }
   },
   "cell_type": "code",
   "source": [
    "# Dizionario delle metriche da usare in cross-validation\n",
    "scoring = {\n",
    "    \"accuracy\": \"accuracy\",\n",
    "    \"precision_macro\": make_scorer(precision_score, average=\"macro\", zero_division=0),\n",
    "    \"recall_macro\": make_scorer(recall_score, average=\"macro\", zero_division=0),\n",
    "    \"f1_macro\": make_scorer(f1_score, average=\"macro\", zero_division=0),\n",
    "}\n",
    "\n",
    "# === [2] Valori da testare per il numero di alberi ===\n",
    "n_estimators_values = [10, 25, 50, 75, 100, 150, 200]\n",
    "\n",
    "# Lista per salvare i risultati\n",
    "results = []\n",
    "\n",
    "# === Cross-validation per ciascun valore di n_estimators ===\n",
    "for n in n_estimators_values:\n",
    "    #print(f\"Valutazione per n_estimators = {n}...\")\n",
    "\n",
    "    # Inizializza il classificatore Random Forest\n",
    "    clf = RandomForestClassifier(n_estimators=n, random_state=42, n_jobs=-1)\n",
    "\n",
    "    # 10-fold Stratified Cross-Validation\n",
    "    cv = StratifiedKFold(n_splits=10, shuffle=True, random_state=42)\n",
    "    cv_result = cross_validate(clf, x_train, y_train, cv=cv, scoring=scoring)\n",
    "\n",
    "    # Aggiungi le metriche medie e deviazioni standard\n",
    "    results.append({\n",
    "        \"n_estimators\": n,\n",
    "        \"accuracy_mean\": np.mean(cv_result[\"test_accuracy\"]),\n",
    "        \"accuracy_std\":  np.std(cv_result[\"test_accuracy\"]),\n",
    "        \"precision_mean\": np.mean(cv_result[\"test_precision_macro\"]),\n",
    "        \"precision_std\":  np.std(cv_result[\"test_precision_macro\"]),\n",
    "        \"recall_mean\":    np.mean(cv_result[\"test_recall_macro\"]),\n",
    "        \"recall_std\":     np.std(cv_result[\"test_recall_macro\"]),\n",
    "        \"f1_mean\":        np.mean(cv_result[\"test_f1_macro\"]),\n",
    "        \"f1_std\":         np.std(cv_result[\"test_f1_macro\"]),\n",
    "    })\n",
    "\n",
    "# Converti i risultati in un DataFrame\n",
    "df_results = pd.DataFrame(results)\n",
    "# Arrotonda e visualizza le metriche ottenute per ogni valore di n_estimators\n",
    "display(df_results.round(4))\n",
    "# === [4] Media complessiva e deviazione standard tra i diversi n_estimators ===\n",
    "summary_overall = pd.DataFrame({\n",
    "    \"media\": [\n",
    "        df_results[\"accuracy_mean\"].mean(),\n",
    "        df_results[\"precision_mean\"].mean(),\n",
    "        df_results[\"recall_mean\"].mean(),\n",
    "        df_results[\"f1_mean\"].mean(),\n",
    "    ],\n",
    "    \"dev_std\": [\n",
    "        df_results[\"accuracy_mean\"].std(),\n",
    "        df_results[\"precision_mean\"].std(),\n",
    "        df_results[\"recall_mean\"].std(),\n",
    "        df_results[\"f1_mean\"].std(),\n",
    "    ]\n",
    "}, index=[\"Accuracy\", \"Precision (macro)\", \"Recall (macro)\", \"F1-score (macro)\"])\n",
    "\n",
    "# Visualizzazione\n",
    "print(\"=== Media ± Deviazione Std delle metriche su tutti i n_estimators ===\")\n",
    "display(summary_overall.round(4))"
   ],
   "id": "5d1164ffa7b7fc2d",
   "outputs": [
    {
     "data": {
      "text/plain": [
       "   n_estimators  accuracy_mean  accuracy_std  precision_mean  precision_std  \\\n",
       "0            10         0.9612        0.0170          0.9633         0.0159   \n",
       "1            25         0.9673        0.0170          0.9690         0.0160   \n",
       "2            50         0.9684        0.0161          0.9699         0.0152   \n",
       "3            75         0.9684        0.0148          0.9697         0.0139   \n",
       "4           100         0.9694        0.0188          0.9711         0.0173   \n",
       "5           150         0.9673        0.0163          0.9692         0.0148   \n",
       "6           200         0.9673        0.0150          0.9691         0.0137   \n",
       "\n",
       "   recall_mean  recall_std  f1_mean  f1_std  \n",
       "0       0.9612      0.0169   0.9613  0.0168  \n",
       "1       0.9673      0.0169   0.9673  0.0169  \n",
       "2       0.9685      0.0160   0.9685  0.0159  \n",
       "3       0.9685      0.0147   0.9684  0.0146  \n",
       "4       0.9694      0.0189   0.9694  0.0190  \n",
       "5       0.9673      0.0165   0.9673  0.0165  \n",
       "6       0.9674      0.0150   0.9674  0.0150  "
      ],
      "text/html": [
       "<div>\n",
       "<style scoped>\n",
       "    .dataframe tbody tr th:only-of-type {\n",
       "        vertical-align: middle;\n",
       "    }\n",
       "\n",
       "    .dataframe tbody tr th {\n",
       "        vertical-align: top;\n",
       "    }\n",
       "\n",
       "    .dataframe thead th {\n",
       "        text-align: right;\n",
       "    }\n",
       "</style>\n",
       "<table border=\"1\" class=\"dataframe\">\n",
       "  <thead>\n",
       "    <tr style=\"text-align: right;\">\n",
       "      <th></th>\n",
       "      <th>n_estimators</th>\n",
       "      <th>accuracy_mean</th>\n",
       "      <th>accuracy_std</th>\n",
       "      <th>precision_mean</th>\n",
       "      <th>precision_std</th>\n",
       "      <th>recall_mean</th>\n",
       "      <th>recall_std</th>\n",
       "      <th>f1_mean</th>\n",
       "      <th>f1_std</th>\n",
       "    </tr>\n",
       "  </thead>\n",
       "  <tbody>\n",
       "    <tr>\n",
       "      <th>0</th>\n",
       "      <td>10</td>\n",
       "      <td>0.9612</td>\n",
       "      <td>0.0170</td>\n",
       "      <td>0.9633</td>\n",
       "      <td>0.0159</td>\n",
       "      <td>0.9612</td>\n",
       "      <td>0.0169</td>\n",
       "      <td>0.9613</td>\n",
       "      <td>0.0168</td>\n",
       "    </tr>\n",
       "    <tr>\n",
       "      <th>1</th>\n",
       "      <td>25</td>\n",
       "      <td>0.9673</td>\n",
       "      <td>0.0170</td>\n",
       "      <td>0.9690</td>\n",
       "      <td>0.0160</td>\n",
       "      <td>0.9673</td>\n",
       "      <td>0.0169</td>\n",
       "      <td>0.9673</td>\n",
       "      <td>0.0169</td>\n",
       "    </tr>\n",
       "    <tr>\n",
       "      <th>2</th>\n",
       "      <td>50</td>\n",
       "      <td>0.9684</td>\n",
       "      <td>0.0161</td>\n",
       "      <td>0.9699</td>\n",
       "      <td>0.0152</td>\n",
       "      <td>0.9685</td>\n",
       "      <td>0.0160</td>\n",
       "      <td>0.9685</td>\n",
       "      <td>0.0159</td>\n",
       "    </tr>\n",
       "    <tr>\n",
       "      <th>3</th>\n",
       "      <td>75</td>\n",
       "      <td>0.9684</td>\n",
       "      <td>0.0148</td>\n",
       "      <td>0.9697</td>\n",
       "      <td>0.0139</td>\n",
       "      <td>0.9685</td>\n",
       "      <td>0.0147</td>\n",
       "      <td>0.9684</td>\n",
       "      <td>0.0146</td>\n",
       "    </tr>\n",
       "    <tr>\n",
       "      <th>4</th>\n",
       "      <td>100</td>\n",
       "      <td>0.9694</td>\n",
       "      <td>0.0188</td>\n",
       "      <td>0.9711</td>\n",
       "      <td>0.0173</td>\n",
       "      <td>0.9694</td>\n",
       "      <td>0.0189</td>\n",
       "      <td>0.9694</td>\n",
       "      <td>0.0190</td>\n",
       "    </tr>\n",
       "    <tr>\n",
       "      <th>5</th>\n",
       "      <td>150</td>\n",
       "      <td>0.9673</td>\n",
       "      <td>0.0163</td>\n",
       "      <td>0.9692</td>\n",
       "      <td>0.0148</td>\n",
       "      <td>0.9673</td>\n",
       "      <td>0.0165</td>\n",
       "      <td>0.9673</td>\n",
       "      <td>0.0165</td>\n",
       "    </tr>\n",
       "    <tr>\n",
       "      <th>6</th>\n",
       "      <td>200</td>\n",
       "      <td>0.9673</td>\n",
       "      <td>0.0150</td>\n",
       "      <td>0.9691</td>\n",
       "      <td>0.0137</td>\n",
       "      <td>0.9674</td>\n",
       "      <td>0.0150</td>\n",
       "      <td>0.9674</td>\n",
       "      <td>0.0150</td>\n",
       "    </tr>\n",
       "  </tbody>\n",
       "</table>\n",
       "</div>"
      ]
     },
     "metadata": {},
     "output_type": "display_data"
    },
    {
     "name": "stdout",
     "output_type": "stream",
     "text": [
      "=== Media ± Deviazione Std delle metriche su tutti i n_estimators ===\n"
     ]
    },
    {
     "data": {
      "text/plain": [
       "                    media  dev_std\n",
       "Accuracy           0.9671   0.0027\n",
       "Precision (macro)  0.9688   0.0025\n",
       "Recall (macro)     0.9671   0.0027\n",
       "F1-score (macro)   0.9671   0.0027"
      ],
      "text/html": [
       "<div>\n",
       "<style scoped>\n",
       "    .dataframe tbody tr th:only-of-type {\n",
       "        vertical-align: middle;\n",
       "    }\n",
       "\n",
       "    .dataframe tbody tr th {\n",
       "        vertical-align: top;\n",
       "    }\n",
       "\n",
       "    .dataframe thead th {\n",
       "        text-align: right;\n",
       "    }\n",
       "</style>\n",
       "<table border=\"1\" class=\"dataframe\">\n",
       "  <thead>\n",
       "    <tr style=\"text-align: right;\">\n",
       "      <th></th>\n",
       "      <th>media</th>\n",
       "      <th>dev_std</th>\n",
       "    </tr>\n",
       "  </thead>\n",
       "  <tbody>\n",
       "    <tr>\n",
       "      <th>Accuracy</th>\n",
       "      <td>0.9671</td>\n",
       "      <td>0.0027</td>\n",
       "    </tr>\n",
       "    <tr>\n",
       "      <th>Precision (macro)</th>\n",
       "      <td>0.9688</td>\n",
       "      <td>0.0025</td>\n",
       "    </tr>\n",
       "    <tr>\n",
       "      <th>Recall (macro)</th>\n",
       "      <td>0.9671</td>\n",
       "      <td>0.0027</td>\n",
       "    </tr>\n",
       "    <tr>\n",
       "      <th>F1-score (macro)</th>\n",
       "      <td>0.9671</td>\n",
       "      <td>0.0027</td>\n",
       "    </tr>\n",
       "  </tbody>\n",
       "</table>\n",
       "</div>"
      ]
     },
     "metadata": {},
     "output_type": "display_data"
    }
   ],
   "execution_count": 4
  },
  {
   "metadata": {
    "ExecuteTime": {
     "end_time": "2025-09-10T11:54:12.913296Z",
     "start_time": "2025-09-10T11:54:12.664690Z"
    }
   },
   "cell_type": "code",
   "source": [
    "# === Plot: 1 - F1-score (errore) al variare di n_estimators ===\n",
    "\n",
    "plt.figure(figsize=(10, 5))\n",
    "plt.errorbar(df_results[\"n_estimators\"], 1 - df_results[\"f1_mean\"],\n",
    "             yerr=df_results[\"f1_std\"], fmt='-o', color='green',\n",
    "             label=\"Errore (1 - F1 Macro)\")\n",
    "\n",
    "plt.xlabel(\"Numero di alberi (n_estimators)\")\n",
    "plt.ylabel(\"Errore medio in CV (1 - F1 Macro)\")\n",
    "plt.title(\"Random Forest — 10-fold CV: Errore medio ± Dev. Std\")\n",
    "plt.grid(True)\n",
    "plt.legend()\n",
    "plt.tight_layout()\n",
    "plt.show()"
   ],
   "id": "9e52b3d036545088",
   "outputs": [
    {
     "data": {
      "text/plain": [
       "<Figure size 1000x500 with 1 Axes>"
      ],
      "image/png": "[encoded data removed]"
     },
     "metadata": {},
     "output_type": "display_data"
    }
   ],
   "execution_count": 5
  },
  {
   "metadata": {
    "ExecuteTime": {
     "end_time": "2025-09-10T11:54:12.933730Z",
     "start_time": "2025-09-10T11:54:12.927907Z"
    }
   },
   "cell_type": "code",
   "source": [
    "# === Selezione del miglior n_estimators ===\n",
    "\n",
    "# Trova il numero di alberi che massimizza la F1 macro\n",
    "# best_n = df_results.sort_values(\"f1_mean\", ascending=False).iloc[0][\"n_estimators\"]\n",
    "best_n = 75\n",
    "print(f\"Valore di n_estimators scelto: {int(best_n)}\")"
   ],
   "id": "a80426a70c4812b7",
   "outputs": [
    {
     "name": "stdout",
     "output_type": "stream",
     "text": [
      "Valore di n_estimators scelto: 75\n"
     ]
    }
   ],
   "execution_count": 6
  },
  {
   "metadata": {
    "ExecuteTime": {
     "end_time": "2025-09-10T11:54:13.770379Z",
     "start_time": "2025-09-10T11:54:13.007365Z"
    }
   },
   "cell_type": "code",
   "source": [
    "# === Addestramento finale su tutto il training set e valutazione sul test ===\n",
    "\n",
    "# Istanziamo il modello con il miglior numero di alberi\n",
    "final_rf = RandomForestClassifier(n_estimators=int(best_n), random_state=42)\n",
    "final_rf.fit(x_train, y_train)\n",
    "\n",
    "# Predizione sul test set\n",
    "y_pred = final_rf.predict(x_test)\n",
    "\n",
    "# Calcolo delle metriche\n",
    "final_metrics = {\n",
    "    \"accuracy\": accuracy_score(y_test, y_pred),\n",
    "    \"precision_macro\": precision_score(y_test, y_pred, average=\"macro\", zero_division=0),\n",
    "    \"recall_macro\": recall_score(y_test, y_pred, average=\"macro\", zero_division=0),\n",
    "    \"f1_macro\": f1_score(y_test, y_pred, average=\"macro\", zero_division=0)\n",
    "}\n",
    "\n",
    "# Visualizzazione delle metriche\n",
    "print(\"=== Performance su test set ===\")\n",
    "for metrica, valore in final_metrics.items():\n",
    "    print(f\"{metrica.capitalize()}: {valore:.4f}\")\n",
    "\n",
    "# Matrice di confusione\n",
    "ConfusionMatrixDisplay.from_predictions(\n",
    "    y_test, y_pred,\n",
    "    cmap=\"Blues\",\n",
    "    normalize=None\n",
    ")\n",
    "plt.title(f\"Matrice di Confusione – Test Set)\")\n",
    "plt.grid(False)\n",
    "plt.show()"
   ],
   "id": "4678ccf6ee03c659",
   "outputs": [
    {
     "name": "stdout",
     "output_type": "stream",
     "text": [
      "=== Performance su test set ===\n",
      "Accuracy: 0.9470\n",
      "Precision_macro: 0.9498\n",
      "Recall_macro: 0.9232\n",
      "F1_macro: 0.9350\n"
     ]
    },
    {
     "data": {
      "text/plain": [
       "<Figure size 640x480 with 2 Axes>"
      ],
      "image/png": "[encoded data removed]"
     },
     "metadata": {},
     "output_type": "display_data"
    }
   ],
   "execution_count": 7
  },
  {
   "metadata": {
    "ExecuteTime": {
     "end_time": "2025-09-10T11:54:14.070938Z",
     "start_time": "2025-09-10T11:54:13.782385Z"
    }
   },
   "cell_type": "code",
   "source": [
    "# === [Importanza delle feature - Tabella + Grafico] ===\n",
    "\n",
    "# Calcolo delle importanze\n",
    "feature_importances = final_rf.feature_importances_\n",
    "indices = np.argsort(feature_importances)[::-1]\n",
    "\n",
    "# Nomi delle feature ordinate per importanza\n",
    "feature_names_ordered = [FEATURES[i] for i in indices]\n",
    "\n",
    "# Creazione DataFrame ordinato\n",
    "df_importanza = pd.DataFrame({\n",
    "    \"Feature\": feature_names_ordered,\n",
    "    \"Importanza\": feature_importances[indices]\n",
    "})\n",
    "\n",
    "# Visualizzazione tabellare\n",
    "print(\"=== Importanza delle feature (valori numerici) ===\")\n",
    "display(df_importanza.round(4))\n",
    "\n",
    "# Visualizzazione grafica\n",
    "plt.figure(figsize=(4, 4))\n",
    "plt.title(\"Importanza delle feature\")\n",
    "plt.bar(range(len(feature_importances)), feature_importances[indices])\n",
    "plt.xticks(range(len(feature_importances)), feature_names_ordered, rotation=45)\n",
    "plt.tight_layout()\n",
    "plt.show()\n"
   ],
   "id": "672126fb22984b0b",
   "outputs": [
    {
     "name": "stdout",
     "output_type": "stream",
     "text": [
      "=== Importanza delle feature (valori numerici) ===\n"
     ]
    },
    {
     "data": {
      "text/plain": [
       "         Feature  Importanza\n",
       "0     OFF_FISICO      0.2659\n",
       "1   OFF_SPECIALE      0.2650\n",
       "2    TANK_FISICO      0.2362\n",
       "3  TANK_SPECIALE      0.2329"
      ],
      "text/html": [
       "<div>\n",
       "<style scoped>\n",
       "    .dataframe tbody tr th:only-of-type {\n",
       "        vertical-align: middle;\n",
       "    }\n",
       "\n",
       "    .dataframe tbody tr th {\n",
       "        vertical-align: top;\n",
       "    }\n",
       "\n",
       "    .dataframe thead th {\n",
       "        text-align: right;\n",
       "    }\n",
       "</style>\n",
       "<table border=\"1\" class=\"dataframe\">\n",
       "  <thead>\n",
       "    <tr style=\"text-align: right;\">\n",
       "      <th></th>\n",
       "      <th>Feature</th>\n",
       "      <th>Importanza</th>\n",
       "    </tr>\n",
       "  </thead>\n",
       "  <tbody>\n",
       "    <tr>\n",
       "      <th>0</th>\n",
       "      <td>OFF_FISICO</td>\n",
       "      <td>0.2659</td>\n",
       "    </tr>\n",
       "    <tr>\n",
       "      <th>1</th>\n",
       "      <td>OFF_SPECIALE</td>\n",
       "      <td>0.2650</td>\n",
       "    </tr>\n",
       "    <tr>\n",
       "      <th>2</th>\n",
       "      <td>TANK_FISICO</td>\n",
       "      <td>0.2362</td>\n",
       "    </tr>\n",
       "    <tr>\n",
       "      <th>3</th>\n",
       "      <td>TANK_SPECIALE</td>\n",
       "      <td>0.2329</td>\n",
       "    </tr>\n",
       "  </tbody>\n",
       "</table>\n",
       "</div>"
      ]
     },
     "metadata": {},
     "output_type": "display_data"
    },
    {
     "data": {
      "text/plain": [
       "<Figure size 400x400 with 1 Axes>"
      ],
      "image/png": "[encoded data removed]"
     },
     "metadata": {},
     "output_type": "display_data"
    }
   ],
   "execution_count": 8
  },
  {
   "metadata": {},
   "cell_type": "markdown",
   "source": [
    "#### Confronto dell'importanza delle feature: Random Forest vs Decision Tree\n",
    "\n",
    "L'importanza delle feature ci permette di capire quali variabili sono maggiormente utilizzate dal modello per prendere decisioni.\n",
    "\n",
    "- Nel caso della **Random Forest**, l'importanza risulta **più bilanciata** tra tutte le feature (`OFF_FISICO`, `OFF_SPECIALE`, `TANK_FISICO`, `TANK_SPECIALE`).\n",
    "  - Questo comportamento è atteso: essendo un ensemble di molti alberi, la Random Forest **riduce la varianza** e **distribuisce il peso decisionale** tra più feature.\n",
    "  - È indice di una **maggiore generalizzazione** del modello.\n",
    "\n",
    "- Nel caso dell’**albero di decisione singolo**, si osserva una forte predominanza della feature `OFF_FISICO`, che supera da sola il **35%** dell'importanza totale.\n",
    "  - Questo indica che l'albero tende a **fare split molto precoci** su questa feature, portando potenzialmente a **overfitting**.\n",
    "  - Le altre feature risultano decisamente meno considerate.\n",
    "\n",
    "### Conclusione\n",
    "- La Random Forest non solo ha **prestazioni migliori**, ma è anche **più robusta e meno sbilanciata** nell'uso delle feature.\n",
    "- Questo la rende preferibile per problemi in cui è importante evitare che una singola variabile domini il processo decisionale.\n"
   ],
   "id": "e0ccd59d80902130"
  }
 ],
 "metadata": {
  "kernelspec": {
   "display_name": "Python 3",
   "language": "python",
   "name": "python3"
  },
  "language_info": {
   "codemirror_mode": {
    "name": "ipython",
    "version": 2
   },
   "file_extension": ".py",
   "mimetype": "text/x-python",
   "name": "python",
   "nbconvert_exporter": "python",
   "pygments_lexer": "ipython2",
   "version": "2.7.6"
  }
 },
 "nbformat": 4,
 "nbformat_minor": 5
}
